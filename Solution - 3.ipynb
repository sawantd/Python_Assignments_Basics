{
 "cells": [
  {
   "cell_type": "markdown",
   "id": "0c668895",
   "metadata": {},
   "source": [
    "## 1. Why are functions advantageous to have in your programs?"
   ]
  },
  {
   "cell_type": "markdown",
   "id": "334fb566",
   "metadata": {},
   "source": [
    "- Functions are advantageous to have in programs because with the help of functions we can perform tasks which have repetitive nature.\n",
    "- If we want to perform similar kind of operations/checks on certain set of values then in that case it prevents us from writing the same set of codes multiple times."
   ]
  },
  {
   "cell_type": "markdown",
   "id": "c927d8ba",
   "metadata": {},
   "source": [
    "## 2. When does the code in a function run: when it's specified or when it's called?"
   ]
  },
  {
   "cell_type": "markdown",
   "id": "153915f7",
   "metadata": {},
   "source": [
    "The code in a function runs when it is __called__."
   ]
  },
  {
   "cell_type": "markdown",
   "id": "656f2e91",
   "metadata": {},
   "source": [
    "## 3. What statement creates a function?"
   ]
  },
  {
   "cell_type": "markdown",
   "id": "f463f78e",
   "metadata": {},
   "source": [
    "The __def__ statement creates a function."
   ]
  },
  {
   "cell_type": "markdown",
   "id": "5f952dfc",
   "metadata": {},
   "source": [
    "## 4. What is the difference between a function and a function call?"
   ]
  },
  {
   "cell_type": "markdown",
   "id": "d63cb96a",
   "metadata": {},
   "source": [
    "- __Function__ : It is an object which is either in-built or user-defined ( created by using def, i.e, definitions )\n",
    "- __Function call__ : It is a method to call the function object so as to execute the codes scripted within that particular function."
   ]
  },
  {
   "cell_type": "markdown",
   "id": "92194c13",
   "metadata": {},
   "source": [
    "## 5. How many global scopes are there in a Python program? How many local scopes?"
   ]
  },
  {
   "cell_type": "markdown",
   "id": "199c6cce",
   "metadata": {},
   "source": [
    "- __Global Scope__ : A variable created in the main body of the python code is a global variable and belongs to the global scope. Global variables are available from within any scope, i.e global or local"
   ]
  },
  {
   "cell_type": "code",
   "execution_count": 2,
   "id": "5a70e45f",
   "metadata": {},
   "outputs": [
    {
     "name": "stdout",
     "output_type": "stream",
     "text": [
      "100\n",
      "100\n"
     ]
    }
   ],
   "source": [
    "x = 100            # Global variable : created outside a function, in the main code body\n",
    "\n",
    "def func_g():\n",
    "    return x       # x variable called inside function\n",
    "\n",
    "a = func_g()\n",
    "print(a)\n",
    "print(x)"
   ]
  },
  {
   "cell_type": "markdown",
   "id": "f2e840c4",
   "metadata": {},
   "source": [
    "- __Local Scope__ : A variable created inside a function belongs to the local scope of the function, and can be only used inside that particular function. In short, scope of local variable lies only within the functon in which it is created."
   ]
  },
  {
   "cell_type": "code",
   "execution_count": 4,
   "id": "1c0fbc9b",
   "metadata": {},
   "outputs": [
    {
     "name": "stdout",
     "output_type": "stream",
     "text": [
      "100\n"
     ]
    },
    {
     "ename": "NameError",
     "evalue": "name 'v' is not defined",
     "output_type": "error",
     "traceback": [
      "\u001b[1;31m---------------------------------------------------------------------------\u001b[0m",
      "\u001b[1;31mNameError\u001b[0m                                 Traceback (most recent call last)",
      "\u001b[1;32m~\\AppData\\Local\\Temp/ipykernel_2644/1861874485.py\u001b[0m in \u001b[0;36m<module>\u001b[1;34m\u001b[0m\n\u001b[0;32m      5\u001b[0m \u001b[0mb\u001b[0m \u001b[1;33m=\u001b[0m \u001b[0mfunc_l\u001b[0m\u001b[1;33m(\u001b[0m\u001b[1;33m)\u001b[0m\u001b[1;33m\u001b[0m\u001b[1;33m\u001b[0m\u001b[0m\n\u001b[0;32m      6\u001b[0m \u001b[0mprint\u001b[0m\u001b[1;33m(\u001b[0m\u001b[0mb\u001b[0m\u001b[1;33m)\u001b[0m\u001b[1;33m\u001b[0m\u001b[1;33m\u001b[0m\u001b[0m\n\u001b[1;32m----> 7\u001b[1;33m \u001b[0mprint\u001b[0m\u001b[1;33m(\u001b[0m\u001b[0mv\u001b[0m\u001b[1;33m)\u001b[0m           \u001b[1;31m# v variable called outside the function\u001b[0m\u001b[1;33m\u001b[0m\u001b[1;33m\u001b[0m\u001b[0m\n\u001b[0m",
      "\u001b[1;31mNameError\u001b[0m: name 'v' is not defined"
     ]
    }
   ],
   "source": [
    "def func_l():\n",
    "    v = 100        # local variable : created inside function\n",
    "    return v\n",
    "\n",
    "b = func_l()\n",
    "print(b)\n",
    "print(v)           # v variable called outside the function"
   ]
  },
  {
   "cell_type": "markdown",
   "id": "a3cd4d01",
   "metadata": {},
   "source": [
    "## 6. What happens to variables in a local scope when the function call returns?"
   ]
  },
  {
   "cell_type": "markdown",
   "id": "7f400674",
   "metadata": {},
   "source": [
    "- When the function call returns, the scope of local variable ends then and there itself.\n",
    "- The reason behind this is, the scope of local variable lies only inside the functon in which it is defined."
   ]
  },
  {
   "cell_type": "markdown",
   "id": "361490f8",
   "metadata": {},
   "source": [
    "## 7. What is the concept of a return value? Is it possible to have a return value in an expression?"
   ]
  },
  {
   "cell_type": "markdown",
   "id": "b2069b32",
   "metadata": {},
   "source": [
    "- We can use return statement only inside a function.\n",
    "- Unless we specify the return statement in a function, the function does not returns any value (i.e the return type is \"NoneType\") in that case.\n",
    "- No, it is not possibe to have a return value in an expression."
   ]
  },
  {
   "cell_type": "code",
   "execution_count": 14,
   "id": "cae2c722",
   "metadata": {},
   "outputs": [
    {
     "name": "stdout",
     "output_type": "stream",
     "text": [
      "41\n",
      "None <class 'NoneType'>\n"
     ]
    }
   ],
   "source": [
    "# Function without return statement:\n",
    "def add(a,b):\n",
    "        print(a+b)\n",
    "    \n",
    "output = add(18,23)\n",
    "print(output, type(output))"
   ]
  },
  {
   "cell_type": "code",
   "execution_count": 13,
   "id": "ab9c9a7d",
   "metadata": {},
   "outputs": [
    {
     "name": "stdout",
     "output_type": "stream",
     "text": [
      "41 <class 'int'>\n"
     ]
    }
   ],
   "source": [
    "# Function with return statement:\n",
    "def add(a,b):\n",
    "        return a+b\n",
    "    \n",
    "output = add(18,23)\n",
    "print(output, type(output))"
   ]
  },
  {
   "cell_type": "code",
   "execution_count": 15,
   "id": "2e8d76e8",
   "metadata": {},
   "outputs": [
    {
     "name": "stdout",
     "output_type": "stream",
     "text": [
      "enter an integer value 10\n"
     ]
    },
    {
     "ename": "SyntaxError",
     "evalue": "'return' outside function (Temp/ipykernel_2188/3296598707.py, line 4)",
     "output_type": "error",
     "traceback": [
      "\u001b[1;36m  File \u001b[1;32m\"C:\\Users\\SERVER\\AppData\\Local\\Temp/ipykernel_2188/3296598707.py\"\u001b[1;36m, line \u001b[1;32m4\u001b[0m\n\u001b[1;33m    return \"The value of a is less than 10\"\u001b[0m\n\u001b[1;37m    ^\u001b[0m\n\u001b[1;31mSyntaxError\u001b[0m\u001b[1;31m:\u001b[0m 'return' outside function\n"
     ]
    }
   ],
   "source": [
    "# using return statement in an expression:\n",
    "a = int(input(\"enter an integer value \"))\n",
    "if a < 10:\n",
    "    return \"The value of a is less than 10\"\n",
    "else:\n",
    "    return \"The value of a is greater than or equal to 10\""
   ]
  },
  {
   "cell_type": "markdown",
   "id": "3df5da35",
   "metadata": {},
   "source": [
    "## 8. If a function does not have a return statement, what is the return value of a call to that function?"
   ]
  },
  {
   "cell_type": "markdown",
   "id": "654d8be3",
   "metadata": {},
   "source": [
    "- If a function does not have a return statement then in that case the function does not returns any value. \n",
    "- The return type is \"NoneType\"."
   ]
  },
  {
   "cell_type": "markdown",
   "id": "5f00e400",
   "metadata": {},
   "source": [
    "## 9. How do you make a function variable refer to the global variable?"
   ]
  },
  {
   "cell_type": "markdown",
   "id": "5c3d090a",
   "metadata": {},
   "source": [
    "A function variable can refer to a global variable if we pass the global variable as an input while calling the function."
   ]
  },
  {
   "cell_type": "markdown",
   "id": "8348262d",
   "metadata": {},
   "source": [
    "## 10. What is the data type of None?"
   ]
  },
  {
   "cell_type": "markdown",
   "id": "d6b452a6",
   "metadata": {},
   "source": [
    "The data type of None is __NoneType__"
   ]
  },
  {
   "cell_type": "code",
   "execution_count": 3,
   "id": "e7c02b15",
   "metadata": {},
   "outputs": [
    {
     "data": {
      "text/plain": [
       "NoneType"
      ]
     },
     "execution_count": 3,
     "metadata": {},
     "output_type": "execute_result"
    }
   ],
   "source": [
    "type(None)"
   ]
  },
  {
   "cell_type": "markdown",
   "id": "dae8d2df",
   "metadata": {},
   "source": [
    "## 11. What does the sentence import areallyourpetsnamederic do?"
   ]
  },
  {
   "cell_type": "markdown",
   "id": "fd23d23a",
   "metadata": {},
   "source": [
    "- The __import__ statement is used to import a module that either pre-exists or is created by user.\n",
    "- __Syntax__ : import *__module_name__*"
   ]
  },
  {
   "cell_type": "code",
   "execution_count": 4,
   "id": "9afdde17",
   "metadata": {},
   "outputs": [
    {
     "ename": "ModuleNotFoundError",
     "evalue": "No module named 'areallyourpetsnamederic'",
     "output_type": "error",
     "traceback": [
      "\u001b[1;31m---------------------------------------------------------------------------\u001b[0m",
      "\u001b[1;31mModuleNotFoundError\u001b[0m                       Traceback (most recent call last)",
      "\u001b[1;32m~\\AppData\\Local\\Temp/ipykernel_2188/51184242.py\u001b[0m in \u001b[0;36m<module>\u001b[1;34m\u001b[0m\n\u001b[1;32m----> 1\u001b[1;33m \u001b[1;32mimport\u001b[0m \u001b[0mareallyourpetsnamederic\u001b[0m\u001b[1;33m\u001b[0m\u001b[1;33m\u001b[0m\u001b[0m\n\u001b[0m",
      "\u001b[1;31mModuleNotFoundError\u001b[0m: No module named 'areallyourpetsnamederic'"
     ]
    }
   ],
   "source": [
    "import areallyourpetsnamederic"
   ]
  },
  {
   "cell_type": "markdown",
   "id": "2048c990",
   "metadata": {},
   "source": [
    "## 12. If you had a bacon() feature in a spam module, what would you call it after importing spam?"
   ]
  },
  {
   "cell_type": "markdown",
   "id": "b35c8768",
   "metadata": {},
   "source": [
    "We can call it by : __spam.bacon()__"
   ]
  },
  {
   "cell_type": "markdown",
   "id": "d3a62af1",
   "metadata": {},
   "source": [
    "## 13. What can you do to save a programme from crashing if it encounters an error?"
   ]
  },
  {
   "cell_type": "markdown",
   "id": "a8ca3885",
   "metadata": {},
   "source": [
    "If an error is encountered then to prevent a programme from crashing, we can make use of Exception Handling technique wherein we introduce our codes within try and except blocks."
   ]
  },
  {
   "cell_type": "markdown",
   "id": "efdc0e6f",
   "metadata": {},
   "source": [
    "## 14. What is the purpose of the try clause? What is the purpose of the except clause?"
   ]
  },
  {
   "cell_type": "markdown",
   "id": "ef017547",
   "metadata": {},
   "source": [
    "- __try block__ is used to catch the errors in the codes.\n",
    "- __except block__ raises an exception in the console if an error is encountered in the try block."
   ]
  }
 ],
 "metadata": {
  "kernelspec": {
   "display_name": "Python 3 (ipykernel)",
   "language": "python",
   "name": "python3"
  },
  "language_info": {
   "codemirror_mode": {
    "name": "ipython",
    "version": 3
   },
   "file_extension": ".py",
   "mimetype": "text/x-python",
   "name": "python",
   "nbconvert_exporter": "python",
   "pygments_lexer": "ipython3",
   "version": "3.9.7"
  }
 },
 "nbformat": 4,
 "nbformat_minor": 5
}
