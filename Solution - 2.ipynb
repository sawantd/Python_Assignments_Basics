{
 "cells": [
  {
   "cell_type": "markdown",
   "id": "73d91aa7",
   "metadata": {},
   "source": [
    "## 1. What are the two values of the Boolean data type? How do you write them?"
   ]
  },
  {
   "cell_type": "markdown",
   "id": "1bd4a6cb",
   "metadata": {},
   "source": [
    "The two values of Boolean data type are : __True__ and __False__"
   ]
  },
  {
   "cell_type": "code",
   "execution_count": 3,
   "id": "4a68f44f",
   "metadata": {},
   "outputs": [
    {
     "name": "stdout",
     "output_type": "stream",
     "text": [
      "True <class 'bool'> and False <class 'bool'>\n"
     ]
    }
   ],
   "source": [
    "a = True\n",
    "b = False\n",
    "print(a, type(a), \"and\", b , type(b))"
   ]
  },
  {
   "cell_type": "markdown",
   "id": "d74d8673",
   "metadata": {},
   "source": [
    "## 2. What are the three different types of Boolean operators?"
   ]
  },
  {
   "cell_type": "markdown",
   "id": "855ab6bf",
   "metadata": {},
   "source": [
    "The three types of Boolean operators are : __and__ (&), __or__ (|) and __not__ (!)"
   ]
  },
  {
   "cell_type": "markdown",
   "id": "3a0bd92b",
   "metadata": {},
   "source": [
    "## 3. Make a list of each Boolean operator's truth tables (i.e. every possible combination of Boolean values for the operator and what it evaluate )."
   ]
  },
  {
   "cell_type": "markdown",
   "id": "0f6dd76d",
   "metadata": {},
   "source": [
    "Here, 1 resembles True and 0 represents False\n",
    "\n",
    "__and__ :\n",
    "\n",
    "               O/P\n",
    "           0 0  0\n",
    "           0 1  0\n",
    "           1 0  0\n",
    "           1 1  1 \n",
    "\n",
    "__or__ :\n",
    "           \n",
    "                O/P\n",
    "            0 0  0\n",
    "            0 1  1\n",
    "            1 0  1\n",
    "            1 1  1\n",
    "\n",
    "__not__ :\n",
    "\n",
    "                O/P\n",
    "            0    1\n",
    "            1    0"
   ]
  },
  {
   "cell_type": "markdown",
   "id": "fe3d3b46",
   "metadata": {},
   "source": [
    "## 4. What are the values of the following expressions?"
   ]
  },
  {
   "cell_type": "code",
   "execution_count": 1,
   "id": "8d1e2767",
   "metadata": {},
   "outputs": [
    {
     "data": {
      "text/plain": [
       "False"
      ]
     },
     "execution_count": 1,
     "metadata": {},
     "output_type": "execute_result"
    }
   ],
   "source": [
    "(5 > 4) and (3 == 5)"
   ]
  },
  {
   "cell_type": "code",
   "execution_count": 2,
   "id": "279992a9",
   "metadata": {},
   "outputs": [
    {
     "data": {
      "text/plain": [
       "False"
      ]
     },
     "execution_count": 2,
     "metadata": {},
     "output_type": "execute_result"
    }
   ],
   "source": [
    "not (5 > 4)"
   ]
  },
  {
   "cell_type": "code",
   "execution_count": 3,
   "id": "fac46bfd",
   "metadata": {},
   "outputs": [
    {
     "data": {
      "text/plain": [
       "True"
      ]
     },
     "execution_count": 3,
     "metadata": {},
     "output_type": "execute_result"
    }
   ],
   "source": [
    "(5 > 4) or (3 == 5)"
   ]
  },
  {
   "cell_type": "code",
   "execution_count": 4,
   "id": "406a7d27",
   "metadata": {},
   "outputs": [
    {
     "data": {
      "text/plain": [
       "False"
      ]
     },
     "execution_count": 4,
     "metadata": {},
     "output_type": "execute_result"
    }
   ],
   "source": [
    "not ((5 > 4) or (3 == 5))"
   ]
  },
  {
   "cell_type": "code",
   "execution_count": 5,
   "id": "c4edb547",
   "metadata": {},
   "outputs": [
    {
     "data": {
      "text/plain": [
       "False"
      ]
     },
     "execution_count": 5,
     "metadata": {},
     "output_type": "execute_result"
    }
   ],
   "source": [
    "(True and True) and (True == False)"
   ]
  },
  {
   "cell_type": "code",
   "execution_count": 6,
   "id": "6290a5fa",
   "metadata": {},
   "outputs": [
    {
     "data": {
      "text/plain": [
       "True"
      ]
     },
     "execution_count": 6,
     "metadata": {},
     "output_type": "execute_result"
    }
   ],
   "source": [
    "(not False) or (not True)"
   ]
  },
  {
   "cell_type": "markdown",
   "id": "bb9a5085",
   "metadata": {},
   "source": [
    "## 5. What are the six comparison operators?"
   ]
  },
  {
   "cell_type": "markdown",
   "id": "01340a47",
   "metadata": {},
   "source": [
    "The six comparison operators are as follows:\n",
    "                                               \n",
    "    - less than             : <\n",
    "    - greater than          : >\n",
    "    - less than equa to     : <=\n",
    "    - greater than equal to : >=\n",
    "    - equal to              : ==\n",
    "    - not equal to          : !="
   ]
  },
  {
   "cell_type": "markdown",
   "id": "3c74877b",
   "metadata": {},
   "source": [
    "## 6. How do you tell the difference between the equal to and assignment operators?Describe a condition and when you would use one."
   ]
  },
  {
   "cell_type": "markdown",
   "id": "8bf5c499",
   "metadata": {},
   "source": [
    "- \"equal to\" is a comparison operator which is used to compare two values or two conditions whereas assignment operator is used to assign values to a variable.\n",
    "- We use double equal to signs while comparing and a single equal to sign during assignment.\n",
    "- Output of comparsion is either True or False."
   ]
  },
  {
   "cell_type": "code",
   "execution_count": 7,
   "id": "9db5fc27",
   "metadata": {},
   "outputs": [
    {
     "data": {
      "text/plain": [
       "True"
      ]
     },
     "execution_count": 7,
     "metadata": {},
     "output_type": "execute_result"
    }
   ],
   "source": [
    "# Example\n",
    "# 1. equal to:\n",
    "\"a\" == \"a\"        # we use double equal to signs while comparing"
   ]
  },
  {
   "cell_type": "code",
   "execution_count": 8,
   "id": "057eefdc",
   "metadata": {},
   "outputs": [
    {
     "name": "stdout",
     "output_type": "stream",
     "text": [
      "a\n"
     ]
    }
   ],
   "source": [
    "# 2. as an assignment operator:\n",
    "a = \"a\"          # we use single equal to sign during assignment. Here, value \"a\" is assigned to variable a.\n",
    "print(a)"
   ]
  },
  {
   "cell_type": "markdown",
   "id": "969f4761",
   "metadata": {},
   "source": [
    "## 7. Identify the three blocks in this code:"
   ]
  },
  {
   "cell_type": "code",
   "execution_count": 9,
   "id": "359ea198",
   "metadata": {},
   "outputs": [
    {
     "name": "stdout",
     "output_type": "stream",
     "text": [
      "ham\n",
      "spam\n",
      "spam\n"
     ]
    }
   ],
   "source": [
    "spam = 0                  # Variable Assignment : Variable spam is a value zero\n",
    "if spam == 10:            # Comparison : Value contained in spam varaible is compared to 10\n",
    "    print('eggs')         # if the \"if condition is True\" then this print statement is executed\n",
    "    \n",
    "if spam > 5:              # Comparison : whether the value contained in spam varaible is greater than 5 is checked\n",
    "    print('bacon')        # if the \"if condition is True\" then this print statement is executed\n",
    "else:\n",
    "    print('ham')          # if the \"if condition is False\" then this print statement within else is executed \n",
    "    \n",
    "print('spam')            \n",
    "print('spam')\n"
   ]
  },
  {
   "cell_type": "markdown",
   "id": "3ab35fda",
   "metadata": {},
   "source": [
    "## 8. Write code that prints Hello if 1 is stored in spam, prints Howdy if 2 is stored in spam, and prints Greetings! if anything else is stored in spam."
   ]
  },
  {
   "cell_type": "code",
   "execution_count": 12,
   "id": "0b51a22a",
   "metadata": {},
   "outputs": [
    {
     "name": "stdout",
     "output_type": "stream",
     "text": [
      "enter an integer value 10\n",
      "Greetings!\n"
     ]
    }
   ],
   "source": [
    "try:\n",
    "    spam = int(input(\"enter an integer value \"))\n",
    "    if spam == 1:\n",
    "        print(\"Hello\")\n",
    "    elif spam == 2:\n",
    "        print(\"Howdy\")\n",
    "    else:\n",
    "        print(\"Greetings!\")\n",
    "except Exception as e:\n",
    "    print(e)"
   ]
  },
  {
   "cell_type": "markdown",
   "id": "7202d87e",
   "metadata": {},
   "source": [
    "## 9. If your programme is stuck in an endless loop, what keys you’ll press?"
   ]
  },
  {
   "cell_type": "markdown",
   "id": "4c33b747",
   "metadata": {},
   "source": [
    "If a programme is stuck in an endless loop then we can interrupt the kernal by clicking on the \"Interrupt\" option available under Kernal tab or by pressing \"CTRL-C\""
   ]
  },
  {
   "cell_type": "markdown",
   "id": "5d07c555",
   "metadata": {},
   "source": [
    "## 10. How can you tell the difference between break and continue?"
   ]
  },
  {
   "cell_type": "markdown",
   "id": "cb0285c1",
   "metadata": {},
   "source": [
    "Both break and continue statements are used in \"Control Flows\" that is, if-else statements or in loops"
   ]
  },
  {
   "cell_type": "code",
   "execution_count": 13,
   "id": "e166e246",
   "metadata": {},
   "outputs": [
    {
     "name": "stdout",
     "output_type": "stream",
     "text": [
      "0\n",
      "1\n",
      "2\n",
      "3\n",
      "4\n",
      "5\n"
     ]
    }
   ],
   "source": [
    "# break : As the name suggests, it breaks the loop if the given condition is True\n",
    "for i in range(10):\n",
    "    print(i)\n",
    "    if i == 5:        # once this condition turns True, the loop is terminated by the break statement\n",
    "        break"
   ]
  },
  {
   "cell_type": "code",
   "execution_count": 15,
   "id": "29b79553",
   "metadata": {},
   "outputs": [
    {
     "name": "stdout",
     "output_type": "stream",
     "text": [
      "0\n",
      "1\n",
      "2\n",
      "3\n",
      "4\n",
      "6\n",
      "7\n",
      "8\n",
      "9\n"
     ]
    }
   ],
   "source": [
    "# continue : It continues to the next iteration once the given condition is satisfied.\n",
    "for i in range(10):\n",
    "    if i == 5:       # once this condition turns True, it directs straight to the next iteration.\n",
    "        continue \n",
    "        print(i+1)   # This statement is not executed\n",
    "    print(i)"
   ]
  },
  {
   "cell_type": "markdown",
   "id": "9444f5e8",
   "metadata": {},
   "source": [
    "## 11. In a for loop, what is the difference between range(10), range(0, 10), and range(0, 10, 1)?"
   ]
  },
  {
   "cell_type": "markdown",
   "id": "c4ead0f7",
   "metadata": {},
   "source": [
    "- There is no difference between the mentioned three ranges.\n",
    "- Syntax of range function : range(start,end,step)\n",
    "- By default, the start value is 0 and the step value is 1."
   ]
  },
  {
   "cell_type": "code",
   "execution_count": 16,
   "id": "b5b04f48",
   "metadata": {},
   "outputs": [
    {
     "name": "stdout",
     "output_type": "stream",
     "text": [
      "0\n",
      "1\n",
      "2\n",
      "3\n",
      "4\n",
      "5\n",
      "6\n",
      "7\n",
      "8\n",
      "9\n"
     ]
    }
   ],
   "source": [
    "# range(10):\n",
    "for i in range(10):\n",
    "    print(i)"
   ]
  },
  {
   "cell_type": "code",
   "execution_count": 17,
   "id": "2bb8a34b",
   "metadata": {},
   "outputs": [
    {
     "name": "stdout",
     "output_type": "stream",
     "text": [
      "0\n",
      "1\n",
      "2\n",
      "3\n",
      "4\n",
      "5\n",
      "6\n",
      "7\n",
      "8\n",
      "9\n"
     ]
    }
   ],
   "source": [
    "# range(0,10):\n",
    "for i in range(0,10):\n",
    "    print(i)"
   ]
  },
  {
   "cell_type": "code",
   "execution_count": 18,
   "id": "93fb2057",
   "metadata": {},
   "outputs": [
    {
     "name": "stdout",
     "output_type": "stream",
     "text": [
      "0\n",
      "1\n",
      "2\n",
      "3\n",
      "4\n",
      "5\n",
      "6\n",
      "7\n",
      "8\n",
      "9\n"
     ]
    }
   ],
   "source": [
    "# range(0,10,1):\n",
    "for i in range(0,10,1):\n",
    "    print(i)"
   ]
  },
  {
   "cell_type": "markdown",
   "id": "d84c6ff0",
   "metadata": {},
   "source": [
    "## 12. Write a short program that prints the numbers 1 to 10 using a for loop. Then write an equivalent program that prints the numbers 1 to 10 using a while loop."
   ]
  },
  {
   "cell_type": "code",
   "execution_count": 19,
   "id": "0956badd",
   "metadata": {},
   "outputs": [
    {
     "name": "stdout",
     "output_type": "stream",
     "text": [
      "1\n",
      "2\n",
      "3\n",
      "4\n",
      "5\n",
      "6\n",
      "7\n",
      "8\n",
      "9\n",
      "10\n"
     ]
    }
   ],
   "source": [
    "# for loop:\n",
    "for i in range(1,11):\n",
    "    print(i)"
   ]
  },
  {
   "cell_type": "code",
   "execution_count": 20,
   "id": "570c6c9f",
   "metadata": {},
   "outputs": [
    {
     "name": "stdout",
     "output_type": "stream",
     "text": [
      "1\n",
      "2\n",
      "3\n",
      "4\n",
      "5\n",
      "6\n",
      "7\n",
      "8\n",
      "9\n",
      "10\n"
     ]
    }
   ],
   "source": [
    "# while loop:\n",
    "i = 1\n",
    "while i < 11:\n",
    "    print(i)\n",
    "    i+=1"
   ]
  },
  {
   "cell_type": "markdown",
   "id": "225363f6",
   "metadata": {},
   "source": [
    "## 13. If you had a function named bacon() inside a module named spam, how would you call it after importing spam?"
   ]
  },
  {
   "cell_type": "markdown",
   "id": "abd784ed",
   "metadata": {},
   "source": [
    "The function bacon() woud be called as: __spam.bacon()__"
   ]
  }
 ],
 "metadata": {
  "kernelspec": {
   "display_name": "Python 3 (ipykernel)",
   "language": "python",
   "name": "python3"
  },
  "language_info": {
   "codemirror_mode": {
    "name": "ipython",
    "version": 3
   },
   "file_extension": ".py",
   "mimetype": "text/x-python",
   "name": "python",
   "nbconvert_exporter": "python",
   "pygments_lexer": "ipython3",
   "version": "3.9.7"
  }
 },
 "nbformat": 4,
 "nbformat_minor": 5
}
