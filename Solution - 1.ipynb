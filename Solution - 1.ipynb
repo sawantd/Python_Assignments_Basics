{
 "cells": [
  {
   "cell_type": "markdown",
   "id": "18707bba",
   "metadata": {},
   "source": [
    "## 1. In the below elements which of them are values or an expression? eg:- values can be integer or string and expressions will be mathematical operators."
   ]
  },
  {
   "cell_type": "markdown",
   "id": "fed2a91d",
   "metadata": {
    "raw_mimetype": "text/x-python"
   },
   "source": [
    "    *        : Expression\n",
    "    'hello'  : Value\n",
    "    -87.8    : Value\n",
    "    -        : Expression\n",
    "    /        : Expression\n",
    "    +\t     : Expression\n",
    "    6        : Value"
   ]
  },
  {
   "cell_type": "markdown",
   "id": "af775482",
   "metadata": {},
   "source": [
    "## 2. What is the difference between string and variable?"
   ]
  },
  {
   "cell_type": "markdown",
   "id": "a1c2c3ec",
   "metadata": {
    "raw_mimetype": "text/x-python"
   },
   "source": [
    "__String__ : String is a value or a data type in python. It is always enclosed within single or double quotes\n",
    "\n",
    "__Variable__ : Variable is a type of container to hold/store values of any data type. "
   ]
  },
  {
   "cell_type": "markdown",
   "id": "d80ea937",
   "metadata": {},
   "source": [
    "## 3. Describe three different data types."
   ]
  },
  {
   "cell_type": "markdown",
   "id": "d8496c9f",
   "metadata": {
    "raw_mimetype": "text/markdown"
   },
   "source": [
    "__int__   : Integer data type contains numeric values (excluding the decimal values). For eg. 1,2,45,6,7,etc.\n",
    "\n",
    "__float__ : Float data type contains decimal numeric values. For eg. 3.4,5.9,0.9,etc.\n",
    "\n",
    "__str__   : Values enclosed in single or double quotes are classified as string data type. Values can be alphabetical, numeric , alpha-numeric or any type of value given that it is enclosed in quotes. For eg. \"apple\", \"1234\", \"key1\", etc.\n",
    "\n",
    "__bool__  : Boolean data type consists of two values \"True\" and \"False\". Numeric representation of True is 1 and that of False is 0.\n",
    "\n",
    "__complex__ : In complex data type, the value comprises of two parts i.e \"real\" and \"imaginary\". For eg. (4+5j) where 4 is the real part and 5 is the imaginary part"
   ]
  },
  {
   "cell_type": "markdown",
   "id": "9d8165d3",
   "metadata": {},
   "source": [
    "## 4. What is an expression made up of? What do all expressions do?"
   ]
  },
  {
   "cell_type": "markdown",
   "id": "59df4b64",
   "metadata": {
    "raw_mimetype": "text/markdown"
   },
   "source": [
    "Expressions are basically termed as \"Operators\" which are used to carry out several operations such as \"Mathematical\", \"Logical\", \"Comparison\", etc.\n",
    "\n",
    "__Mathematical expresssions__ : addition: +, subtraction: -, multiplication: *, division: /, exponential: ** , modulus: %, etc.\n",
    "\n",
    "__Logical expressions__       : and (&), or (|), not (!)\n",
    "\n",
    "__Comaparison expressions__   : <, >, <=, >=, ==, !="
   ]
  },
  {
   "cell_type": "markdown",
   "id": "72dde95c",
   "metadata": {},
   "source": [
    "## 5. This assignment statements, like spam = 10. What is the difference between an expression and a statement?"
   ]
  },
  {
   "cell_type": "markdown",
   "id": "1fbef160",
   "metadata": {},
   "source": [
    "Expressions are used to carry out certain operations amongst the values such as addition, concatenation, comparison, etc whereas statements are used for variable assignments. For eg. spam = 10, where value 10 is assigned to variable \"spam\""
   ]
  },
  {
   "cell_type": "markdown",
   "id": "af16ec32",
   "metadata": {},
   "source": [
    "## 6. After running the following code, what does the variable bacon contain?"
   ]
  },
  {
   "cell_type": "code",
   "execution_count": 1,
   "id": "1d5c84c6",
   "metadata": {},
   "outputs": [
    {
     "data": {
      "text/plain": [
       "22"
      ]
     },
     "execution_count": 1,
     "metadata": {},
     "output_type": "execute_result"
    }
   ],
   "source": [
    "bacon = 22\n",
    "bacon + 1\n",
    "bacon"
   ]
  },
  {
   "cell_type": "markdown",
   "id": "6e573e06",
   "metadata": {},
   "source": [
    "## 7. What should the values of the following two terms be?"
   ]
  },
  {
   "cell_type": "code",
   "execution_count": 2,
   "id": "353db559",
   "metadata": {},
   "outputs": [
    {
     "data": {
      "text/plain": [
       "'spamspamspam'"
      ]
     },
     "execution_count": 2,
     "metadata": {},
     "output_type": "execute_result"
    }
   ],
   "source": [
    "'spam' + 'spamspam'"
   ]
  },
  {
   "cell_type": "code",
   "execution_count": 3,
   "id": "fb8c1293",
   "metadata": {},
   "outputs": [
    {
     "data": {
      "text/plain": [
       "'spamspamspam'"
      ]
     },
     "execution_count": 3,
     "metadata": {},
     "output_type": "execute_result"
    }
   ],
   "source": [
    "'spam' * 3"
   ]
  },
  {
   "cell_type": "markdown",
   "id": "6795d823",
   "metadata": {},
   "source": [
    "## 8. Why is eggs a valid variable name while 100 is invalid?"
   ]
  },
  {
   "cell_type": "markdown",
   "id": "45cd1607",
   "metadata": {},
   "source": [
    "There are certain rules with respect to variable name creation which includes that a numeric value can't be considered as a variable name so it is considered as invalid whereas eggs is considered as a valid variable name."
   ]
  },
  {
   "cell_type": "markdown",
   "id": "cc018df9",
   "metadata": {},
   "source": [
    "## 9. What three functions can be used to get the integer, floating-point number, or string version of a value?"
   ]
  },
  {
   "cell_type": "markdown",
   "id": "166fce7b",
   "metadata": {},
   "source": [
    "Suppose, we have __a = \"23091996\"__ then"
   ]
  },
  {
   "cell_type": "code",
   "execution_count": 10,
   "id": "221dadbe",
   "metadata": {},
   "outputs": [
    {
     "name": "stdout",
     "output_type": "stream",
     "text": [
      "23091996 <class 'int'>\n",
      "23091996.0 <class 'float'>\n",
      "23091996 <class 'str'>\n"
     ]
    }
   ],
   "source": [
    "a = \"23091996\"\n",
    "\n",
    "#Integer\n",
    "b = int(a)\n",
    "print(b, type(b))\n",
    "\n",
    "#Float-point number\n",
    "c = float(a)\n",
    "print(c, type(c))\n",
    "\n",
    "#String\n",
    "d = str(a)\n",
    "print(d, type(d))"
   ]
  },
  {
   "cell_type": "markdown",
   "id": "39536766",
   "metadata": {},
   "source": [
    "## 10. Why does this expression cause an error? How can you fix it?"
   ]
  },
  {
   "cell_type": "code",
   "execution_count": 11,
   "id": "7903cce8",
   "metadata": {},
   "outputs": [
    {
     "ename": "TypeError",
     "evalue": "can only concatenate str (not \"int\") to str",
     "output_type": "error",
     "traceback": [
      "\u001b[1;31m---------------------------------------------------------------------------\u001b[0m",
      "\u001b[1;31mTypeError\u001b[0m                                 Traceback (most recent call last)",
      "\u001b[1;32m~\\AppData\\Local\\Temp/ipykernel_6540/1774935878.py\u001b[0m in \u001b[0;36m<module>\u001b[1;34m\u001b[0m\n\u001b[1;32m----> 1\u001b[1;33m \u001b[1;34m'I have eaten '\u001b[0m \u001b[1;33m+\u001b[0m \u001b[1;36m99\u001b[0m \u001b[1;33m+\u001b[0m \u001b[1;34m' burritos.'\u001b[0m\u001b[1;33m\u001b[0m\u001b[1;33m\u001b[0m\u001b[0m\n\u001b[0m",
      "\u001b[1;31mTypeError\u001b[0m: can only concatenate str (not \"int\") to str"
     ]
    }
   ],
   "source": [
    "'I have eaten ' + 99 + ' burritos.'"
   ]
  },
  {
   "cell_type": "markdown",
   "id": "41ff7925",
   "metadata": {},
   "source": [
    "The above expression causes an error because we can't concatenate two different data types. So, to fix the above issue we need to convert all the values to a comman data type as below."
   ]
  },
  {
   "cell_type": "code",
   "execution_count": 12,
   "id": "f2e90f1a",
   "metadata": {},
   "outputs": [
    {
     "data": {
      "text/plain": [
       "'I have eaten 99 burritos.'"
      ]
     },
     "execution_count": 12,
     "metadata": {},
     "output_type": "execute_result"
    }
   ],
   "source": [
    "'I have eaten ' + str(99) + ' burritos.'"
   ]
  }
 ],
 "metadata": {
  "kernelspec": {
   "display_name": "Python 3 (ipykernel)",
   "language": "python",
   "name": "python3"
  },
  "language_info": {
   "codemirror_mode": {
    "name": "ipython",
    "version": 3
   },
   "file_extension": ".py",
   "mimetype": "text/x-python",
   "name": "python",
   "nbconvert_exporter": "python",
   "pygments_lexer": "ipython3",
   "version": "3.9.7"
  }
 },
 "nbformat": 4,
 "nbformat_minor": 5
}
