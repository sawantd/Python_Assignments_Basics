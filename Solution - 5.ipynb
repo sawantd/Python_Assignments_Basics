{
 "cells": [
  {
   "cell_type": "markdown",
   "id": "11571713",
   "metadata": {},
   "source": [
    "### 1. What does an empty dictionary's code look like?"
   ]
  },
  {
   "cell_type": "code",
   "execution_count": 2,
   "id": "f76ac742",
   "metadata": {},
   "outputs": [
    {
     "name": "stdout",
     "output_type": "stream",
     "text": [
      "<class 'dict'>\n"
     ]
    }
   ],
   "source": [
    "d = {}         # empty dictionary\n",
    "print(type(d))"
   ]
  },
  {
   "cell_type": "markdown",
   "id": "d914cf3e",
   "metadata": {},
   "source": [
    "### 2. What is the value of a dictionary value with the key 'foo' and the value 42?"
   ]
  },
  {
   "cell_type": "code",
   "execution_count": 5,
   "id": "b5b6abf4",
   "metadata": {},
   "outputs": [
    {
     "name": "stdout",
     "output_type": "stream",
     "text": [
      "dictionary : {'foo': 42} , value : dict_values([42])\n"
     ]
    }
   ],
   "source": [
    "d1 = {\"foo\":42}\n",
    "print(\"dictionary :\",d1, \", value :\", d1.values())"
   ]
  },
  {
   "cell_type": "markdown",
   "id": "ed3bf3a1",
   "metadata": {},
   "source": [
    "### 3. What is the most significant distinction between a dictionary and a list?"
   ]
  },
  {
   "cell_type": "markdown",
   "id": "4a869512",
   "metadata": {},
   "source": [
    "- __List__ : A list is an ordered collection which contains elements of any datatype. List elements can be accessed via indexes.\n",
    "- __Dictionary__ : A dictionary is a collection which contains elements in the form of key-value pair. Dictionary values can be accessed with the help of keys."
   ]
  },
  {
   "cell_type": "code",
   "execution_count": 6,
   "id": "189353fc",
   "metadata": {},
   "outputs": [
    {
     "name": "stdout",
     "output_type": "stream",
     "text": [
      "3\n",
      "3\n"
     ]
    }
   ],
   "source": [
    "# list :\n",
    "a = [1,2,3,4,5]\n",
    "print(a[2])       # accessing the element at index 2\n",
    "\n",
    "# dictionary :\n",
    "b = {\"a\":1,\"b\":2,\"c\":3,\"d\":5}\n",
    "print(b[\"c\"])     # accessing value having key \"c\""
   ]
  },
  {
   "cell_type": "markdown",
   "id": "55da8714",
   "metadata": {},
   "source": [
    "### 4. What happens if you try to access spam['foo'] if spam is {'bar': 100}?"
   ]
  },
  {
   "cell_type": "code",
   "execution_count": 7,
   "id": "0d99fc29",
   "metadata": {},
   "outputs": [
    {
     "ename": "KeyError",
     "evalue": "'foo'",
     "output_type": "error",
     "traceback": [
      "\u001b[1;31m---------------------------------------------------------------------------\u001b[0m",
      "\u001b[1;31mKeyError\u001b[0m                                  Traceback (most recent call last)",
      "\u001b[1;32m~\\AppData\\Local\\Temp/ipykernel_9416/4026577702.py\u001b[0m in \u001b[0;36m<module>\u001b[1;34m\u001b[0m\n\u001b[0;32m      1\u001b[0m \u001b[0mspam\u001b[0m \u001b[1;33m=\u001b[0m \u001b[1;33m{\u001b[0m\u001b[1;34m'bar'\u001b[0m\u001b[1;33m:\u001b[0m\u001b[1;36m100\u001b[0m\u001b[1;33m}\u001b[0m\u001b[1;33m\u001b[0m\u001b[1;33m\u001b[0m\u001b[0m\n\u001b[1;32m----> 2\u001b[1;33m \u001b[0mspam\u001b[0m\u001b[1;33m[\u001b[0m\u001b[1;34m'foo'\u001b[0m\u001b[1;33m]\u001b[0m\u001b[1;33m\u001b[0m\u001b[1;33m\u001b[0m\u001b[0m\n\u001b[0m",
      "\u001b[1;31mKeyError\u001b[0m: 'foo'"
     ]
    }
   ],
   "source": [
    "spam = {'bar':100}\n",
    "spam['foo']"
   ]
  },
  {
   "cell_type": "markdown",
   "id": "2539f7d1",
   "metadata": {},
   "source": [
    "We get a __KeyError__ since the key '__foo__' is not present in the dictionary __spam__"
   ]
  },
  {
   "cell_type": "markdown",
   "id": "09be19c1",
   "metadata": {},
   "source": [
    "### 5. If a dictionary is stored in spam, what is the difference between the expressions 'cat' in spam and 'cat' in spam.keys()?"
   ]
  },
  {
   "cell_type": "code",
   "execution_count": 13,
   "id": "74299a7c",
   "metadata": {},
   "outputs": [],
   "source": [
    "spam = {\"dog\": 15, \"dog\":10, \"level\":\"low\", \"dangerous\":\"cat\"}"
   ]
  },
  {
   "cell_type": "code",
   "execution_count": 14,
   "id": "5eb2cb18",
   "metadata": {},
   "outputs": [
    {
     "data": {
      "text/plain": [
       "False"
      ]
     },
     "execution_count": 14,
     "metadata": {},
     "output_type": "execute_result"
    }
   ],
   "source": [
    "'cat' in spam"
   ]
  },
  {
   "cell_type": "code",
   "execution_count": 15,
   "id": "ed243340",
   "metadata": {},
   "outputs": [
    {
     "data": {
      "text/plain": [
       "False"
      ]
     },
     "execution_count": 15,
     "metadata": {},
     "output_type": "execute_result"
    }
   ],
   "source": [
    "'cat' in spam.keys()"
   ]
  },
  {
   "cell_type": "markdown",
   "id": "78e5bb0d",
   "metadata": {},
   "source": [
    "There is no difference between the two expressions. Both of them check if the given value i.e 'cat' is present in the keys of the dictionary as per the above example."
   ]
  },
  {
   "cell_type": "markdown",
   "id": "c48c162c",
   "metadata": {},
   "source": [
    "### 6. If a dictionary is stored in spam, what is the difference between the expressions 'cat' in spam and 'cat' in spam.values()?"
   ]
  },
  {
   "cell_type": "code",
   "execution_count": 22,
   "id": "23e2708b",
   "metadata": {},
   "outputs": [],
   "source": [
    "spam = {\"dog\": 15, \"dog\":10, \"level\":\"low\", \"dangerous\":\"cat\"}"
   ]
  },
  {
   "cell_type": "code",
   "execution_count": 17,
   "id": "8275dbe2",
   "metadata": {},
   "outputs": [
    {
     "data": {
      "text/plain": [
       "False"
      ]
     },
     "execution_count": 17,
     "metadata": {},
     "output_type": "execute_result"
    }
   ],
   "source": [
    "'cat' in spam"
   ]
  },
  {
   "cell_type": "code",
   "execution_count": 18,
   "id": "18e979a3",
   "metadata": {},
   "outputs": [
    {
     "data": {
      "text/plain": [
       "True"
      ]
     },
     "execution_count": 18,
     "metadata": {},
     "output_type": "execute_result"
    }
   ],
   "source": [
    "'cat' in spam.values()"
   ]
  },
  {
   "cell_type": "markdown",
   "id": "3903caac",
   "metadata": {},
   "source": [
    "The expression ('cat' in spam) checks if 'cat' is present in the dictionary keys whereas the other expression ('cat' in spam.values()) checks if the value 'cat' is present amongst the values of the dictionary."
   ]
  },
  {
   "cell_type": "markdown",
   "id": "84663e8a",
   "metadata": {},
   "source": [
    "### 7. What is a shortcut for the following code?\n",
    "if 'color' not in spam:\n",
    "spam['color'] = 'black'"
   ]
  },
  {
   "cell_type": "code",
   "execution_count": 27,
   "id": "81af509e",
   "metadata": {},
   "outputs": [
    {
     "name": "stdout",
     "output_type": "stream",
     "text": [
      "None\n"
     ]
    }
   ],
   "source": [
    "# to check if key is present\n",
    "print(spam.get('color'))   \n",
    "# the get() method returns the corresponding value of the key if it exists and None if the key does not exists"
   ]
  },
  {
   "cell_type": "code",
   "execution_count": 28,
   "id": "27052a4c",
   "metadata": {},
   "outputs": [
    {
     "name": "stdout",
     "output_type": "stream",
     "text": [
      "{'dog': 10, 'level': 'low', 'dangerous': 'cat', 'color': 'black'}\n"
     ]
    }
   ],
   "source": [
    "# using update method\n",
    "spam.update(color = 'black')\n",
    "print(spam)"
   ]
  },
  {
   "cell_type": "markdown",
   "id": "86c7e883",
   "metadata": {},
   "source": [
    "### 8. How do you \"pretty print\" dictionary values using which module and function?"
   ]
  },
  {
   "cell_type": "code",
   "execution_count": 29,
   "id": "60b0022d",
   "metadata": {},
   "outputs": [],
   "source": [
    "import pprint"
   ]
  },
  {
   "cell_type": "code",
   "execution_count": 31,
   "id": "20e9e24b",
   "metadata": {},
   "outputs": [
    {
     "name": "stdout",
     "output_type": "stream",
     "text": [
      "{'color': 'black', 'dangerous': 'cat', 'dog': 10, 'level': 'low'}\n"
     ]
    }
   ],
   "source": [
    "pprint.pprint(spam)"
   ]
  },
  {
   "cell_type": "code",
   "execution_count": 39,
   "id": "963847b7",
   "metadata": {},
   "outputs": [],
   "source": [
    "info = {1:{\"name\":\"abc\", \"age\":20, \"gender\":\"F\"},\n",
    "        2:{\"name\":\"xyz\", \"age\":16, \"gender\":\"M\"}, \n",
    "        3:{\"name\":\"mno\", \"age\":23, \"gender\":\"F\"},\n",
    "        4:{\"name\":\"uvw\", \"age\":18, \"gender\":\"M\"} }"
   ]
  },
  {
   "cell_type": "code",
   "execution_count": 40,
   "id": "59f35d4f",
   "metadata": {},
   "outputs": [
    {
     "name": "stdout",
     "output_type": "stream",
     "text": [
      "{1: {'age': 20, 'gender': 'F', 'name': 'abc'},\n",
      " 2: {'age': 16, 'gender': 'M', 'name': 'xyz'},\n",
      " 3: {'age': 23, 'gender': 'F', 'name': 'mno'},\n",
      " 4: {'age': 18, 'gender': 'M', 'name': 'uvw'}}\n"
     ]
    }
   ],
   "source": [
    "pprint.pprint(info)       # it prints in a readable manner"
   ]
  },
  {
   "cell_type": "code",
   "execution_count": 41,
   "id": "7a95c2a5",
   "metadata": {},
   "outputs": [
    {
     "name": "stdout",
     "output_type": "stream",
     "text": [
      "{1: {'name': 'abc', 'age': 20, 'gender': 'F'}, 2: {'name': 'xyz', 'age': 16, 'gender': 'M'}, 3: {'name': 'mno', 'age': 23, 'gender': 'F'}, 4: {'name': 'uvw', 'age': 18, 'gender': 'M'}}\n"
     ]
    }
   ],
   "source": [
    "print(info)               # the output printed appears messy to read "
   ]
  }
 ],
 "metadata": {
  "kernelspec": {
   "display_name": "Python 3 (ipykernel)",
   "language": "python",
   "name": "python3"
  },
  "language_info": {
   "codemirror_mode": {
    "name": "ipython",
    "version": 3
   },
   "file_extension": ".py",
   "mimetype": "text/x-python",
   "name": "python",
   "nbconvert_exporter": "python",
   "pygments_lexer": "ipython3",
   "version": "3.9.7"
  }
 },
 "nbformat": 4,
 "nbformat_minor": 5
}
