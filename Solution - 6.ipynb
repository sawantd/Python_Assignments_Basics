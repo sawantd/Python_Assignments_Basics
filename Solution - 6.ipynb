{
 "cells": [
  {
   "cell_type": "markdown",
   "id": "e209aa71",
   "metadata": {},
   "source": [
    "### 1. What are escape characters, and how do you use them?"
   ]
  },
  {
   "cell_type": "markdown",
   "id": "7efef651",
   "metadata": {},
   "source": [
    "- In python strings, Backslash (i.e, \\ ) is an escape character which is used to represent certain whitespace characters such as tab, newline and carriage return. \n",
    "- Even it helps in inserting certain characters in the string which can't be inserted directly. For eg. single quote, double quote, etc.\n",
    "- To use an escape character, we need to just mention a backslash before the character to be escaped"
   ]
  },
  {
   "cell_type": "code",
   "execution_count": 2,
   "id": "7f2c3fbd",
   "metadata": {},
   "outputs": [
    {
     "name": "stdout",
     "output_type": "stream",
     "text": [
      "Example of newline : Hello! \n",
      "Greetings on your way!!\n",
      "\r\n",
      "Example of tab : Beautiful\tMorining!!\n",
      "\r\n",
      "Example of single quote escape : Hey!, What's up\n"
     ]
    }
   ],
   "source": [
    "# Examples:\n",
    "msg = \"Hello! \\nGreetings on your way!!\"\n",
    "print(\"Example of newline :\", msg)\n",
    "print('\\r')\n",
    "\n",
    "txt = \"Beautiful\\tMorining!!\"\n",
    "print(\"Example of tab :\", txt)\n",
    "print('\\r')\n",
    "\n",
    "txt1 = 'Hey!, What\\'s up'\n",
    "print(\"Example of single quote escape :\", txt1)"
   ]
  },
  {
   "cell_type": "markdown",
   "id": "3af76225",
   "metadata": {},
   "source": [
    "### 2. What do the escape characters n and t stand for?"
   ]
  },
  {
   "cell_type": "markdown",
   "id": "9942e77b",
   "metadata": {},
   "source": [
    "The escape characters __n__ and __t__ stands for __newline__ and a __tab space__ respectively."
   ]
  },
  {
   "cell_type": "markdown",
   "id": "2b341cfe",
   "metadata": {},
   "source": [
    "### 3. What is the way to include backslash characters in a string?"
   ]
  },
  {
   "cell_type": "markdown",
   "id": "021c5a7d",
   "metadata": {},
   "source": [
    "We can include backslash characters in a string by escaping it as follows:"
   ]
  },
  {
   "cell_type": "code",
   "execution_count": 3,
   "id": "e6f171df",
   "metadata": {},
   "outputs": [
    {
     "data": {
      "text/plain": [
       "'D:\\\\SAWANT PRATAP\\\\Desktop\\\\Darshana\\\\Ineuron Internship\\\\Assignment\\\\Solutions'"
      ]
     },
     "execution_count": 3,
     "metadata": {},
     "output_type": "execute_result"
    }
   ],
   "source": [
    "pwd"
   ]
  },
  {
   "cell_type": "code",
   "execution_count": 4,
   "id": "07f72029",
   "metadata": {},
   "outputs": [
    {
     "name": "stdout",
     "output_type": "stream",
     "text": [
      "D:\\SAWANT PRATAP\\Desktop\\Darshana\\Ineuron Internship\\Assignment\\Solutions\n"
     ]
    }
   ],
   "source": [
    "# Example 1 :\n",
    "a = 'D:\\\\SAWANT PRATAP\\\\Desktop\\\\Darshana\\\\Ineuron Internship\\\\Assignment\\\\Solutions'\n",
    "print(a)"
   ]
  },
  {
   "cell_type": "code",
   "execution_count": 5,
   "id": "b2df72df",
   "metadata": {},
   "outputs": [
    {
     "data": {
      "text/plain": [
       "'The view is soo calming\\\\soothing'"
      ]
     },
     "execution_count": 5,
     "metadata": {},
     "output_type": "execute_result"
    }
   ],
   "source": [
    "# Example 2:\n",
    "b = 'The view is soo calming\\\\soothing'\n",
    "b"
   ]
  },
  {
   "cell_type": "code",
   "execution_count": 6,
   "id": "53ae71d0",
   "metadata": {},
   "outputs": [
    {
     "name": "stdout",
     "output_type": "stream",
     "text": [
      "The view is soo calming\\soothing\n"
     ]
    }
   ],
   "source": [
    "print(b)"
   ]
  },
  {
   "cell_type": "markdown",
   "id": "caf28149",
   "metadata": {},
   "source": [
    "### 4. The string \"Howl's Moving Castle\" is a correct value. Why isn't the single quote character in the word Howl's not escaped a problem?"
   ]
  },
  {
   "cell_type": "markdown",
   "id": "72d71515",
   "metadata": {},
   "source": [
    "- The single quote character in the word Howl's not escaped isn't causing any problem because the entire value is included under __double quotes__. \n",
    "- If we would have included the value under single quotes then surely it would have raised an error. Then in that case we need to escape it."
   ]
  },
  {
   "cell_type": "code",
   "execution_count": 7,
   "id": "1f3b7884",
   "metadata": {},
   "outputs": [],
   "source": [
    "# double quotes\n",
    "txt = \"Howl's Moving Castle\""
   ]
  },
  {
   "cell_type": "code",
   "execution_count": 8,
   "id": "ab13ff45",
   "metadata": {},
   "outputs": [
    {
     "ename": "SyntaxError",
     "evalue": "invalid syntax (Temp/ipykernel_12220/1374900199.py, line 2)",
     "output_type": "error",
     "traceback": [
      "\u001b[1;36m  File \u001b[1;32m\"C:\\Users\\SERVER\\AppData\\Local\\Temp/ipykernel_12220/1374900199.py\"\u001b[1;36m, line \u001b[1;32m2\u001b[0m\n\u001b[1;33m    txt1 = 'Howl's Moving Castle'\u001b[0m\n\u001b[1;37m                 ^\u001b[0m\n\u001b[1;31mSyntaxError\u001b[0m\u001b[1;31m:\u001b[0m invalid syntax\n"
     ]
    }
   ],
   "source": [
    "# single quotes\n",
    "txt1 = 'Howl's Moving Castle'"
   ]
  },
  {
   "cell_type": "code",
   "execution_count": 25,
   "id": "4159c640",
   "metadata": {},
   "outputs": [
    {
     "name": "stdout",
     "output_type": "stream",
     "text": [
      "Howl's Moving Castle\n"
     ]
    }
   ],
   "source": [
    "txt1 = 'Howl\\'s Moving Castle'\n",
    "print(txt1)"
   ]
  },
  {
   "cell_type": "markdown",
   "id": "587c5205",
   "metadata": {},
   "source": [
    "### 5. How do you write a string of newlines if you don't want to use the n character?"
   ]
  },
  {
   "cell_type": "markdown",
   "id": "cadc0283",
   "metadata": {},
   "source": [
    "- We can incude the string in triple quotes to achieve the objective of the question"
   ]
  },
  {
   "cell_type": "code",
   "execution_count": 10,
   "id": "58a14c58",
   "metadata": {},
   "outputs": [
    {
     "name": "stdout",
     "output_type": "stream",
     "text": [
      "Hello!!\n",
      "Have a nice day.\n",
      "You are wonderful!!!! :)\n"
     ]
    }
   ],
   "source": [
    "print(\"\"\"Hello!!\n",
    "Have a nice day.\n",
    "You are wonderful!!!! :)\"\"\")"
   ]
  },
  {
   "cell_type": "markdown",
   "id": "00bf7f4e",
   "metadata": {},
   "source": [
    "### 6. What are the values of the given expressions?"
   ]
  },
  {
   "cell_type": "code",
   "execution_count": 11,
   "id": "a2942294",
   "metadata": {},
   "outputs": [
    {
     "data": {
      "text/plain": [
       "'e'"
      ]
     },
     "execution_count": 11,
     "metadata": {},
     "output_type": "execute_result"
    }
   ],
   "source": [
    "'Hello, world!'[1]"
   ]
  },
  {
   "cell_type": "code",
   "execution_count": 12,
   "id": "d6195ce7",
   "metadata": {},
   "outputs": [
    {
     "data": {
      "text/plain": [
       "'Hello'"
      ]
     },
     "execution_count": 12,
     "metadata": {},
     "output_type": "execute_result"
    }
   ],
   "source": [
    "'Hello, world!'[0:5]"
   ]
  },
  {
   "cell_type": "code",
   "execution_count": 13,
   "id": "8880fb95",
   "metadata": {},
   "outputs": [
    {
     "data": {
      "text/plain": [
       "'Hello'"
      ]
     },
     "execution_count": 13,
     "metadata": {},
     "output_type": "execute_result"
    }
   ],
   "source": [
    "'Hello, world!'[:5]"
   ]
  },
  {
   "cell_type": "code",
   "execution_count": 14,
   "id": "1ded9310",
   "metadata": {},
   "outputs": [
    {
     "data": {
      "text/plain": [
       "'lo, world!'"
      ]
     },
     "execution_count": 14,
     "metadata": {},
     "output_type": "execute_result"
    }
   ],
   "source": [
    "'Hello, world!'[3:]"
   ]
  },
  {
   "cell_type": "markdown",
   "id": "3be3d93a",
   "metadata": {},
   "source": [
    "### 7. What are the values of the following expressions?"
   ]
  },
  {
   "cell_type": "code",
   "execution_count": 15,
   "id": "d9558b8c",
   "metadata": {},
   "outputs": [
    {
     "data": {
      "text/plain": [
       "'HELLO'"
      ]
     },
     "execution_count": 15,
     "metadata": {},
     "output_type": "execute_result"
    }
   ],
   "source": [
    "'Hello'.upper()"
   ]
  },
  {
   "cell_type": "code",
   "execution_count": 16,
   "id": "f862cc0f",
   "metadata": {},
   "outputs": [
    {
     "data": {
      "text/plain": [
       "True"
      ]
     },
     "execution_count": 16,
     "metadata": {},
     "output_type": "execute_result"
    }
   ],
   "source": [
    "'Hello'.upper().isupper()"
   ]
  },
  {
   "cell_type": "code",
   "execution_count": 17,
   "id": "066a9be7",
   "metadata": {},
   "outputs": [
    {
     "data": {
      "text/plain": [
       "'hello'"
      ]
     },
     "execution_count": 17,
     "metadata": {},
     "output_type": "execute_result"
    }
   ],
   "source": [
    "'Hello'.upper().lower()"
   ]
  },
  {
   "cell_type": "markdown",
   "id": "56fae988",
   "metadata": {},
   "source": [
    "### 8. What are the values of the following expressions?"
   ]
  },
  {
   "cell_type": "code",
   "execution_count": 18,
   "id": "5ba3d6c8",
   "metadata": {},
   "outputs": [
    {
     "data": {
      "text/plain": [
       "['Remember,', 'remember,', 'the', 'fifth', 'of', 'July.']"
      ]
     },
     "execution_count": 18,
     "metadata": {},
     "output_type": "execute_result"
    }
   ],
   "source": [
    "'Remember, remember, the fifth of July.'.split()"
   ]
  },
  {
   "cell_type": "code",
   "execution_count": 19,
   "id": "bba8595e",
   "metadata": {},
   "outputs": [
    {
     "data": {
      "text/plain": [
       "'There-can-only-one.'"
      ]
     },
     "execution_count": 19,
     "metadata": {},
     "output_type": "execute_result"
    }
   ],
   "source": [
    "'-'.join('There can only one.'.split())"
   ]
  },
  {
   "cell_type": "markdown",
   "id": "184e2f02",
   "metadata": {},
   "source": [
    "### 9. What are the methods for right-justifying, left-justifying, and centering a string?"
   ]
  },
  {
   "cell_type": "code",
   "execution_count": 20,
   "id": "39ca2649",
   "metadata": {},
   "outputs": [
    {
     "name": "stdout",
     "output_type": "stream",
     "text": [
      "Right aligned :                                 Darshana\n",
      "Left aligned  : Darshana********************************\n",
      "Cenetered     : ----------------Darshana----------------\n"
     ]
    }
   ],
   "source": [
    "string = \"Darshana\"\n",
    "\n",
    "#right-justifying (rjust()):\n",
    "print(\"Right aligned :\", string.rjust(40))         # the default fill character is blank space\n",
    "\n",
    "# left-justifying (ljust()):\n",
    "print(\"Left aligned  :\", string.ljust(40, '*'))\n",
    "\n",
    "# Centering (center()):\n",
    "print(\"Cenetered     :\", string.center(40,'-'))"
   ]
  },
  {
   "cell_type": "markdown",
   "id": "c2ca7f5d",
   "metadata": {},
   "source": [
    "### 10. What is the best way to remove whitespace characters from the start or end?"
   ]
  },
  {
   "cell_type": "markdown",
   "id": "f8481137",
   "metadata": {},
   "source": [
    "- __lstrip()__ method used to remove whitespace characters from start and __rstrip()__ method to remove from the end.\n",
    "- __strip()__ method is used to remove both leading and trailing whitespace characters from a string."
   ]
  },
  {
   "cell_type": "code",
   "execution_count": 21,
   "id": "36de6164",
   "metadata": {},
   "outputs": [],
   "source": [
    "text = \"   The scene is   serene          \""
   ]
  },
  {
   "cell_type": "code",
   "execution_count": 22,
   "id": "bafeaa61",
   "metadata": {},
   "outputs": [
    {
     "data": {
      "text/plain": [
       "'The scene is   serene          '"
      ]
     },
     "execution_count": 22,
     "metadata": {},
     "output_type": "execute_result"
    }
   ],
   "source": [
    "# lstrip() :\n",
    "text.lstrip()"
   ]
  },
  {
   "cell_type": "code",
   "execution_count": 23,
   "id": "61455f06",
   "metadata": {},
   "outputs": [
    {
     "data": {
      "text/plain": [
       "'   The scene is   serene'"
      ]
     },
     "execution_count": 23,
     "metadata": {},
     "output_type": "execute_result"
    }
   ],
   "source": [
    "# rstrip() :\n",
    "text.rstrip()"
   ]
  },
  {
   "cell_type": "code",
   "execution_count": 24,
   "id": "afa55d0a",
   "metadata": {},
   "outputs": [
    {
     "data": {
      "text/plain": [
       "'The scene is   serene'"
      ]
     },
     "execution_count": 24,
     "metadata": {},
     "output_type": "execute_result"
    }
   ],
   "source": [
    "# strip() :\n",
    "text.strip()"
   ]
  }
 ],
 "metadata": {
  "kernelspec": {
   "display_name": "Python 3 (ipykernel)",
   "language": "python",
   "name": "python3"
  },
  "language_info": {
   "codemirror_mode": {
    "name": "ipython",
    "version": 3
   },
   "file_extension": ".py",
   "mimetype": "text/x-python",
   "name": "python",
   "nbconvert_exporter": "python",
   "pygments_lexer": "ipython3",
   "version": "3.9.7"
  }
 },
 "nbformat": 4,
 "nbformat_minor": 5
}
