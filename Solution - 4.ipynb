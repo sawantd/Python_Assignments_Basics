{
 "cells": [
  {
   "cell_type": "markdown",
   "id": "e14c09b6",
   "metadata": {},
   "source": [
    "### 1. What exactly is []?"
   ]
  },
  {
   "cell_type": "markdown",
   "id": "bc94a009",
   "metadata": {},
   "source": [
    "- In python, generally, [] are used to create list objects.\n",
    "- List comprises of elements of any data type. For eg. [12,\"apple\", True, (4+6j)].\n",
    "- The elements within a list are ordered.\n",
    "- [] with no values/elements within it, resembes an empty list."
   ]
  },
  {
   "cell_type": "markdown",
   "id": "2f87f9b5",
   "metadata": {},
   "source": [
    "### 2. In a list of values stored in a variable called spam, how would you assign the value 'hello' as the third value? (Assume [2, 4, 6, 8, 10] are in spam.)"
   ]
  },
  {
   "cell_type": "code",
   "execution_count": 1,
   "id": "c0fff3b4",
   "metadata": {},
   "outputs": [],
   "source": [
    "spam = [2, 4, 6, 8, 10]"
   ]
  },
  {
   "cell_type": "code",
   "execution_count": 2,
   "id": "f60640cd",
   "metadata": {},
   "outputs": [],
   "source": [
    "spam.insert(2,\"hello\")      # using insert method"
   ]
  },
  {
   "cell_type": "code",
   "execution_count": 3,
   "id": "f664363e",
   "metadata": {},
   "outputs": [
    {
     "data": {
      "text/plain": [
       "[2, 4, 'hello', 6, 8, 10]"
      ]
     },
     "execution_count": 3,
     "metadata": {},
     "output_type": "execute_result"
    }
   ],
   "source": [
    "spam"
   ]
  },
  {
   "cell_type": "markdown",
   "id": "a74d8475",
   "metadata": {},
   "source": [
    "# Let's pretend the spam includes the list ['a', 'b', 'c', 'd'] for the next three queries."
   ]
  },
  {
   "cell_type": "code",
   "execution_count": 4,
   "id": "d3b24e29",
   "metadata": {},
   "outputs": [],
   "source": [
    "spam = ['a','b','c','d']"
   ]
  },
  {
   "cell_type": "markdown",
   "id": "3cec2740",
   "metadata": {},
   "source": [
    "### 3. What is the value of spam[int(int('3' * 2) / 11)]?"
   ]
  },
  {
   "cell_type": "code",
   "execution_count": 5,
   "id": "f6bf8949",
   "metadata": {},
   "outputs": [
    {
     "data": {
      "text/plain": [
       "'d'"
      ]
     },
     "execution_count": 5,
     "metadata": {},
     "output_type": "execute_result"
    }
   ],
   "source": [
    "spam[int(int('3' * 2) / 11)]"
   ]
  },
  {
   "cell_type": "markdown",
   "id": "2188fb64",
   "metadata": {},
   "source": [
    "### 4. What is the value of spam[-1]?"
   ]
  },
  {
   "cell_type": "code",
   "execution_count": 6,
   "id": "f029c5b8",
   "metadata": {},
   "outputs": [
    {
     "data": {
      "text/plain": [
       "'d'"
      ]
     },
     "execution_count": 6,
     "metadata": {},
     "output_type": "execute_result"
    }
   ],
   "source": [
    "spam[-1]"
   ]
  },
  {
   "cell_type": "markdown",
   "id": "8476fa88",
   "metadata": {},
   "source": [
    "### 5. What is the value of spam[:2]?"
   ]
  },
  {
   "cell_type": "code",
   "execution_count": 7,
   "id": "44180aaf",
   "metadata": {},
   "outputs": [
    {
     "data": {
      "text/plain": [
       "['a', 'b']"
      ]
     },
     "execution_count": 7,
     "metadata": {},
     "output_type": "execute_result"
    }
   ],
   "source": [
    "spam[:2]"
   ]
  },
  {
   "cell_type": "markdown",
   "id": "70fc349d",
   "metadata": {},
   "source": [
    "# Let's pretend bacon has the list [3.14, 'cat,' 11, 'cat,' True] for the next three questions."
   ]
  },
  {
   "cell_type": "code",
   "execution_count": 8,
   "id": "b88dc666",
   "metadata": {},
   "outputs": [],
   "source": [
    "bacon = [3.14,'cat',11,'cat',True]"
   ]
  },
  {
   "cell_type": "markdown",
   "id": "bd092616",
   "metadata": {},
   "source": [
    "### 6. What is the value of bacon.index('cat')?"
   ]
  },
  {
   "cell_type": "code",
   "execution_count": 9,
   "id": "c15143d4",
   "metadata": {},
   "outputs": [
    {
     "data": {
      "text/plain": [
       "1"
      ]
     },
     "execution_count": 9,
     "metadata": {},
     "output_type": "execute_result"
    }
   ],
   "source": [
    "bacon.index('cat')     # gives the index of first occurence of the value"
   ]
  },
  {
   "cell_type": "markdown",
   "id": "cf9c2f08",
   "metadata": {},
   "source": [
    "### 7. How does bacon.append(99) change the look of the list value in bacon?"
   ]
  },
  {
   "cell_type": "code",
   "execution_count": 10,
   "id": "f76608bd",
   "metadata": {},
   "outputs": [
    {
     "data": {
      "text/plain": [
       "[3.14, 'cat', 11, 'cat', True, 99]"
      ]
     },
     "execution_count": 10,
     "metadata": {},
     "output_type": "execute_result"
    }
   ],
   "source": [
    "bacon.append(99)       # appends the element at the end of the list\n",
    "bacon"
   ]
  },
  {
   "cell_type": "markdown",
   "id": "1cfc5aab",
   "metadata": {},
   "source": [
    "### 8. How does bacon.remove('cat') change the look of the list in bacon?"
   ]
  },
  {
   "cell_type": "code",
   "execution_count": 11,
   "id": "1f3061a4",
   "metadata": {},
   "outputs": [
    {
     "data": {
      "text/plain": [
       "[3.14, 11, 'cat', True, 99]"
      ]
     },
     "execution_count": 11,
     "metadata": {},
     "output_type": "execute_result"
    }
   ],
   "source": [
    "bacon.remove('cat')   # removes the first occurence of the value\n",
    "bacon"
   ]
  },
  {
   "cell_type": "markdown",
   "id": "3cfea9c6",
   "metadata": {},
   "source": [
    "### 9. What are the list concatenation and list replication operators?"
   ]
  },
  {
   "cell_type": "code",
   "execution_count": 12,
   "id": "e958f32f",
   "metadata": {},
   "outputs": [
    {
     "name": "stdout",
     "output_type": "stream",
     "text": [
      "['a', 'b', 'c', 'd', 3.14, 11, 'cat', True, 99]\n",
      "['a', 'b', 'c', 'd', 'a', 'b', 'c', 'd', 'a', 'b', 'c', 'd', 'a', 'b', 'c', 'd']\n"
     ]
    }
   ],
   "source": [
    "# list concatenation using + operator:\n",
    "print(spam + bacon)\n",
    "\n",
    "# list replication using * operator:\n",
    "print(spam*4)"
   ]
  },
  {
   "cell_type": "markdown",
   "id": "449bb04f",
   "metadata": {},
   "source": [
    "### 10. What is difference between the list methods append() and insert()?"
   ]
  },
  {
   "cell_type": "markdown",
   "id": "264a9e3a",
   "metadata": {},
   "source": [
    "- __list.append()__ : The new values are appended at the end of the list.\n",
    "- __list.insert()__ : The new value is inserted in the list at the index specified within the insert method call"
   ]
  },
  {
   "cell_type": "code",
   "execution_count": 13,
   "id": "0861bbf2",
   "metadata": {},
   "outputs": [
    {
     "data": {
      "text/plain": [
       "[1, 2, 3, 5, 6, 7, 8, 'apple']"
      ]
     },
     "execution_count": 13,
     "metadata": {},
     "output_type": "execute_result"
    }
   ],
   "source": [
    "# append():\n",
    "a = [1,2,3,5,6,7,8]\n",
    "a.append(\"apple\")        # value \"apple\" is appended to the list at the end of the list\n",
    "a"
   ]
  },
  {
   "cell_type": "code",
   "execution_count": 14,
   "id": "e5f8394b",
   "metadata": {},
   "outputs": [],
   "source": [
    "# insert():\n",
    "a.insert(3,\"mango\")       # value \"mango\" is inserted within the list at index 3"
   ]
  },
  {
   "cell_type": "code",
   "execution_count": 15,
   "id": "3f2ed970",
   "metadata": {},
   "outputs": [
    {
     "data": {
      "text/plain": [
       "[1, 2, 3, 'mango', 5, 6, 7, 8, 'apple']"
      ]
     },
     "execution_count": 15,
     "metadata": {},
     "output_type": "execute_result"
    }
   ],
   "source": [
    "a"
   ]
  },
  {
   "cell_type": "markdown",
   "id": "da3124c0",
   "metadata": {},
   "source": [
    "### 11. What are the two methods for removing items from a list?"
   ]
  },
  {
   "cell_type": "markdown",
   "id": "d1ac8c43",
   "metadata": {},
   "source": [
    " __using pop method:__ "
   ]
  },
  {
   "cell_type": "code",
   "execution_count": 16,
   "id": "f86ac323",
   "metadata": {},
   "outputs": [
    {
     "data": {
      "text/plain": [
       "'apple'"
      ]
     },
     "execution_count": 16,
     "metadata": {},
     "output_type": "execute_result"
    }
   ],
   "source": [
    "a.pop()           # removes the last element by default"
   ]
  },
  {
   "cell_type": "code",
   "execution_count": 17,
   "id": "1b2c7a25",
   "metadata": {},
   "outputs": [
    {
     "data": {
      "text/plain": [
       "2"
      ]
     },
     "execution_count": 17,
     "metadata": {},
     "output_type": "execute_result"
    }
   ],
   "source": [
    "a.pop(1)          # removes the specified index element"
   ]
  },
  {
   "cell_type": "code",
   "execution_count": 18,
   "id": "7c35d589",
   "metadata": {},
   "outputs": [
    {
     "data": {
      "text/plain": [
       "[1, 3, 'mango', 5, 6, 7, 8]"
      ]
     },
     "execution_count": 18,
     "metadata": {},
     "output_type": "execute_result"
    }
   ],
   "source": [
    "a"
   ]
  },
  {
   "cell_type": "markdown",
   "id": "3749a92c",
   "metadata": {},
   "source": [
    "__using remove method__:"
   ]
  },
  {
   "cell_type": "code",
   "execution_count": 20,
   "id": "03bb9fb1",
   "metadata": {},
   "outputs": [],
   "source": [
    "a.remove('mango')       # removes the specified value"
   ]
  },
  {
   "cell_type": "code",
   "execution_count": 21,
   "id": "cd3c1ca6",
   "metadata": {},
   "outputs": [
    {
     "data": {
      "text/plain": [
       "[1, 3, 5, 6, 7, 8]"
      ]
     },
     "execution_count": 21,
     "metadata": {},
     "output_type": "execute_result"
    }
   ],
   "source": [
    "a"
   ]
  },
  {
   "cell_type": "code",
   "execution_count": 22,
   "id": "37569c21",
   "metadata": {},
   "outputs": [
    {
     "ename": "TypeError",
     "evalue": "list.remove() takes exactly one argument (0 given)",
     "output_type": "error",
     "traceback": [
      "\u001b[1;31m---------------------------------------------------------------------------\u001b[0m",
      "\u001b[1;31mTypeError\u001b[0m                                 Traceback (most recent call last)",
      "\u001b[1;32m~\\AppData\\Local\\Temp/ipykernel_14728/1414373467.py\u001b[0m in \u001b[0;36m<module>\u001b[1;34m\u001b[0m\n\u001b[1;32m----> 1\u001b[1;33m \u001b[0ma\u001b[0m\u001b[1;33m.\u001b[0m\u001b[0mremove\u001b[0m\u001b[1;33m(\u001b[0m\u001b[1;33m)\u001b[0m\u001b[1;33m\u001b[0m\u001b[1;33m\u001b[0m\u001b[0m\n\u001b[0m",
      "\u001b[1;31mTypeError\u001b[0m: list.remove() takes exactly one argument (0 given)"
     ]
    }
   ],
   "source": [
    "a.remove()              # raises error if no value specified"
   ]
  },
  {
   "cell_type": "code",
   "execution_count": 23,
   "id": "63431f28",
   "metadata": {},
   "outputs": [
    {
     "name": "stdout",
     "output_type": "stream",
     "text": [
      "[11, 2, 3, 4, 445, 7, 6, 7, 6]\n"
     ]
    }
   ],
   "source": [
    "b = [11,2,3,4,445,6,7,6,7,6]\n",
    "b.remove(6)             # removes only the first occurence of the specified value\n",
    "print(b)"
   ]
  },
  {
   "cell_type": "markdown",
   "id": "fd8f0401",
   "metadata": {},
   "source": [
    "### 12. Describe how list values and string values are identical."
   ]
  },
  {
   "cell_type": "markdown",
   "id": "587676a1",
   "metadata": {},
   "source": [
    "- Both list and string are iterable objects, i.e we can iterate through each and every element present in them."
   ]
  },
  {
   "cell_type": "code",
   "execution_count": 1,
   "id": "32143578",
   "metadata": {},
   "outputs": [],
   "source": [
    "name = \"Darshana\""
   ]
  },
  {
   "cell_type": "code",
   "execution_count": 3,
   "id": "25ceaa34",
   "metadata": {},
   "outputs": [
    {
     "name": "stdout",
     "output_type": "stream",
     "text": [
      "D\n",
      "a\n",
      "r\n",
      "s\n",
      "h\n",
      "a\n",
      "n\n",
      "a\n"
     ]
    }
   ],
   "source": [
    "for i in name:\n",
    "    print(i)"
   ]
  },
  {
   "cell_type": "code",
   "execution_count": 5,
   "id": "883fa301",
   "metadata": {},
   "outputs": [],
   "source": [
    "l = [1,2,3,4, \"apple\"]"
   ]
  },
  {
   "cell_type": "code",
   "execution_count": 6,
   "id": "16c62de8",
   "metadata": {},
   "outputs": [
    {
     "name": "stdout",
     "output_type": "stream",
     "text": [
      "1\n",
      "2\n",
      "3\n",
      "4\n",
      "apple\n"
     ]
    }
   ],
   "source": [
    "for i in l:\n",
    "    print(i)"
   ]
  },
  {
   "cell_type": "markdown",
   "id": "34bc4013",
   "metadata": {},
   "source": [
    "### 14. How do you type a tuple value that only contains the integer 42?"
   ]
  },
  {
   "cell_type": "markdown",
   "id": "97359d63",
   "metadata": {},
   "source": [
    "To create a tuple that contains only one single element, we need to specify comma(,) after the element. In this way, the element is recognized as a tuple"
   ]
  },
  {
   "cell_type": "code",
   "execution_count": 30,
   "id": "035ad8f1",
   "metadata": {},
   "outputs": [
    {
     "data": {
      "text/plain": [
       "tuple"
      ]
     },
     "execution_count": 30,
     "metadata": {},
     "output_type": "execute_result"
    }
   ],
   "source": [
    "t = 42,\n",
    "type(t)"
   ]
  },
  {
   "cell_type": "markdown",
   "id": "db66063c",
   "metadata": {},
   "source": [
    "### 15. How do you get a list value's tuple form? How do you get a tuple value's list form?"
   ]
  },
  {
   "cell_type": "markdown",
   "id": "f634061e",
   "metadata": {},
   "source": [
    "- The specified operation can be performed by using typecasting, i.e\n",
    "- We get list value's tuple form by using tuple().\n",
    "- Similarly, we get tuple value's list form by using list()."
   ]
  },
  {
   "cell_type": "code",
   "execution_count": 29,
   "id": "90b5cb67",
   "metadata": {},
   "outputs": [
    {
     "name": "stdout",
     "output_type": "stream",
     "text": [
      "(1, 2, 4, 6)\n",
      "[1, 2, 4, 6]\n"
     ]
    }
   ],
   "source": [
    "# tuple form of list:\n",
    "l = [1,2,4,6]\n",
    "print(tuple(l))\n",
    "\n",
    "# list form of tuple\n",
    "print(list(tuple(l)))"
   ]
  },
  {
   "cell_type": "markdown",
   "id": "7904c4a5",
   "metadata": {},
   "source": [
    "### 16. Variables that \"contain\" list values are not necessarily lists themselves. Instead, what do they contain?"
   ]
  },
  {
   "cell_type": "markdown",
   "id": "7deb2cf4",
   "metadata": {},
   "source": [
    "Variables contain references to the list values rather than list values themselves."
   ]
  },
  {
   "cell_type": "markdown",
   "id": "81a86fef",
   "metadata": {},
   "source": [
    "### 17. How do you distinguish between copy.copy() and copy.deepcopy()?"
   ]
  },
  {
   "cell_type": "markdown",
   "id": "9f1096cc",
   "metadata": {},
   "source": [
    "- Copy operations can be performed on collection objects which are mutable.\n",
    "- To perform these operations, we need to import \"__copy__\" module.\n",
    "1. __Shallow copy (copy.copy())__ : It creates a new compound object and then inserts references into it to the elements found in the original. Changes made to the collection object within copy are refected in the original.\n",
    "2. __Deep copy (copy.deepcopy())__ : It creates a new compound object and then, recursively, inserts copies into it of the  elements found in the original. Changes made to the copy are not reflected in the original."
   ]
  },
  {
   "cell_type": "code",
   "execution_count": 21,
   "id": "9378e77d",
   "metadata": {},
   "outputs": [],
   "source": [
    "import copy"
   ]
  },
  {
   "cell_type": "code",
   "execution_count": 15,
   "id": "cbe24cb0",
   "metadata": {},
   "outputs": [
    {
     "name": "stdout",
     "output_type": "stream",
     "text": [
      "Shallow copy of original list : [1, 2, 'apple', 4, 5]\n",
      "Original list : [1, 2, 3, 4, 5]\n",
      "\r\n",
      "__Example of nested objects__\n",
      "Shallow copy of original list : [1, 2, 3, 5, [0, 9, 'abc', 7]]\n",
      "Original list : [1, 2, 3, 5, [0, 9, 'abc', 7]]\n"
     ]
    }
   ],
   "source": [
    "## Shallow copy : copy.copy()\n",
    "\n",
    "#1. List\n",
    "\n",
    "l = [1,2,3,4,5]\n",
    "\n",
    "l1 = copy.copy(l)       # shallow copy into l1\n",
    "l1[2] = \"apple\"         # modifying the element at index 2\n",
    "\n",
    "print(\"Shallow copy of original list :\",l1)\n",
    "print(\"Original list :\",l)                    # no change in original list\n",
    "\n",
    "#2. Nested list\n",
    "\n",
    "b = [1,2,3,5,[0,9,8,7]]\n",
    "\n",
    "b1 = copy.copy(b)       # shallow copy into b1\n",
    "b1[4][2] = \"abc\"        # modifying element present within nested list\n",
    "\n",
    "print('\\r')\n",
    "print(\"__Example of nested objects__\")\n",
    "print(\"Shallow copy of original list :\",b1)\n",
    "print(\"Original list :\",b)                   # change in original list\n"
   ]
  },
  {
   "cell_type": "code",
   "execution_count": 22,
   "id": "5404495a",
   "metadata": {},
   "outputs": [
    {
     "name": "stdout",
     "output_type": "stream",
     "text": [
      "Deep copy of original list : [1, 2, 'apple', 4, 5]\n",
      "Original list : [1, 2, 3, 4, 5]\n",
      "\r\n",
      "__Example of nested objects__\n",
      "Deep copy of original list : [1, 2, 3, 5, [0, 9, 'abc', 7]]\n",
      "Original list : [1, 2, 3, 5, [0, 9, 8, 7]]\n"
     ]
    }
   ],
   "source": [
    "## Deep copy : copy.deepcopy()\n",
    "\n",
    "#1. List\n",
    "\n",
    "l = [1,2,3,4,5]\n",
    "\n",
    "l1 = copy.deepcopy(l)       # Deep copy into l1\n",
    "l1[2] = \"apple\"             # modifying the element at index 2\n",
    "\n",
    "print(\"Deep copy of original list :\",l1)\n",
    "print(\"Original list :\",l)                    # no change in original list\n",
    "\n",
    "#2. Nested list\n",
    "\n",
    "b = [1,2,3,5,[0,9,8,7]]\n",
    "\n",
    "b1 = copy.deepcopy(b)       # shallow copy into b1\n",
    "b1[4][2] = \"abc\"            # modifying element present within nested list\n",
    "\n",
    "print('\\r')\n",
    "print(\"__Example of nested objects__\")\n",
    "print(\"Deep copy of original list :\",b1)\n",
    "print(\"Original list :\",b)                   # no change in original list"
   ]
  }
 ],
 "metadata": {
  "kernelspec": {
   "display_name": "Python 3 (ipykernel)",
   "language": "python",
   "name": "python3"
  },
  "language_info": {
   "codemirror_mode": {
    "name": "ipython",
    "version": 3
   },
   "file_extension": ".py",
   "mimetype": "text/x-python",
   "name": "python",
   "nbconvert_exporter": "python",
   "pygments_lexer": "ipython3",
   "version": "3.9.7"
  }
 },
 "nbformat": 4,
 "nbformat_minor": 5
}
